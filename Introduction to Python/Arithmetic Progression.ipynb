{
 "cells": [
  {
   "cell_type": "markdown",
   "id": "f02df07f",
   "metadata": {},
   "source": [
    "# Arithmetic Progression\n",
    "\n",
    "### You are given first three entries of an arithmetic progression. You have to calculate the common difference and print it.\n",
    "\n",
    "#### Input format:\n",
    "The first line of input contains an integer a (1 <= a <= 100)\n",
    "The second line of input contains an integer b (1 <= b <= 100) \n",
    "The third line of input contains an integer c (1 <= c <= 100) \n",
    "\n",
    "#### Constraints:\n",
    "Time Limit: 1 second\n",
    "Output format:\n",
    "The first and only line of output contains the result.\n",
    "\n",
    "#### Sample Input:\n",
    "1\n",
    "3\n",
    "5\n",
    "#### Sample Output:\n",
    "2"
   ]
  },
  {
   "cell_type": "code",
   "execution_count": 5,
   "id": "772d5d81",
   "metadata": {},
   "outputs": [
    {
     "name": "stdout",
     "output_type": "stream",
     "text": [
      "1\n",
      "3\n",
      "5\n",
      "2\n"
     ]
    }
   ],
   "source": [
    "# code here\n",
    "x=int(input())\n",
    "y=int(input())\n",
    "z=int(input())\n",
    "res=y-x\n",
    "res=z-y\n",
    "print(res)"
   ]
  }
 ],
 "metadata": {
  "kernelspec": {
   "display_name": "Python 3 (ipykernel)",
   "language": "python",
   "name": "python3"
  },
  "language_info": {
   "codemirror_mode": {
    "name": "ipython",
    "version": 3
   },
   "file_extension": ".py",
   "mimetype": "text/x-python",
   "name": "python",
   "nbconvert_exporter": "python",
   "pygments_lexer": "ipython3",
   "version": "3.9.12"
  }
 },
 "nbformat": 4,
 "nbformat_minor": 5
}
