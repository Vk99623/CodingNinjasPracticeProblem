{
 "cells": [
  {
   "cell_type": "markdown",
   "id": "7a9a18d9",
   "metadata": {},
   "source": [
    "# Find average Marks\n",
    "\n",
    "### Write a program to input marks of three tests of a student (all integers). Then calculate and print the average of all test marks.\n",
    "\n",
    "##### Input format :\n",
    "3 Test marks (in different lines)\n",
    "\n",
    "##### Output format :\n",
    "Average \n",
    "\n",
    "##### Sample Input 1 :\n",
    "3 \n",
    "4 \n",
    "6\n",
    "##### Sample Output 1 :\n",
    "\n",
    "4.333333333333333\n",
    "\n",
    "##### Sample Input 2 :\n",
    "5 \n",
    "10 \n",
    "5\n",
    "##### Sample Output 2 :\n",
    "6.666666666666667"
   ]
  },
  {
   "cell_type": "code",
   "execution_count": 1,
   "id": "5304bcc3",
   "metadata": {},
   "outputs": [
    {
     "name": "stdout",
     "output_type": "stream",
     "text": [
      "2\n",
      "5\n",
      "7\n",
      "4.666666666666667\n"
     ]
    }
   ],
   "source": [
    "a = int(input())\n",
    "b = int(input())\n",
    "c = int(input())\n",
    "\n",
    "avg = (a+b+c)/3\n",
    "\n",
    "print(avg)"
   ]
  }
 ],
 "metadata": {
  "kernelspec": {
   "display_name": "Python 3 (ipykernel)",
   "language": "python",
   "name": "python3"
  },
  "language_info": {
   "codemirror_mode": {
    "name": "ipython",
    "version": 3
   },
   "file_extension": ".py",
   "mimetype": "text/x-python",
   "name": "python",
   "nbconvert_exporter": "python",
   "pygments_lexer": "ipython3",
   "version": "3.9.12"
  }
 },
 "nbformat": 4,
 "nbformat_minor": 5
}
