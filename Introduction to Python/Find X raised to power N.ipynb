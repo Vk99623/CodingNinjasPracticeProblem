{
 "cells": [
  {
   "cell_type": "markdown",
   "id": "e6d1cf8c",
   "metadata": {},
   "source": [
    "# Find X raised to power N\n",
    "\n",
    "#### You are given two integers: X and N. You have to calculate X raised to power N and print it.\n",
    "\n",
    "##### Input format:\n",
    "The first line of input contains an integer X (1 <= X <= 100)\n",
    "The second line of input contains an integer N (1 <= N <= 10) \n",
    "\n",
    "##### Constraints:\n",
    "Time Limit: 1 second\n",
    "##### Output format:\n",
    "The first and only line of output contains the result.  \n",
    "\n",
    "##### Sample Input:\n",
    "10\n",
    "4\n",
    "#### Sample Output:\n",
    "10000"
   ]
  },
  {
   "cell_type": "code",
   "execution_count": 2,
   "id": "3a41989c",
   "metadata": {},
   "outputs": [
    {
     "name": "stdout",
     "output_type": "stream",
     "text": [
      "10\n",
      "3\n",
      "1000\n"
     ]
    }
   ],
   "source": [
    "# code here\n",
    "x=int(input())\n",
    "n=int(input())\n",
    "res = x**n\n",
    "print(res)\n"
   ]
  }
 ],
 "metadata": {
  "kernelspec": {
   "display_name": "Python 3 (ipykernel)",
   "language": "python",
   "name": "python3"
  },
  "language_info": {
   "codemirror_mode": {
    "name": "ipython",
    "version": 3
   },
   "file_extension": ".py",
   "mimetype": "text/x-python",
   "name": "python",
   "nbconvert_exporter": "python",
   "pygments_lexer": "ipython3",
   "version": "3.9.12"
  }
 },
 "nbformat": 4,
 "nbformat_minor": 5
}
