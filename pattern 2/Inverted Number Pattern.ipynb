{
 "cells": [
  {
   "cell_type": "markdown",
   "id": "5c751087",
   "metadata": {},
   "source": [
    "# Inverted Number Pattern\n",
    "\n",
    "### Print the following pattern for the given N number of rows.\n",
    "\n",
    "#### Pattern for N = 4\n",
    "#### 4444\n",
    "#### 333\n",
    "#### 22\n",
    "#### 1\n",
    "\n",
    "#### Input format :\n",
    "Integer N (Total no. of rows)\n",
    "\n",
    "#### Output format :\n",
    "Pattern in N lines\n",
    "\n",
    "#### Constraints :\n",
    "0 <= N <= 50\n",
    "\n",
    "#### Sample Input 1:\n",
    "5\n",
    "\n",
    "#### Sample Output 1:\n",
    "#### 55555 \n",
    "#### 4444\n",
    "#### 333\n",
    "#### 22\n",
    "#### 1"
   ]
  },
  {
   "cell_type": "code",
   "execution_count": 1,
   "id": "3193bfcf",
   "metadata": {},
   "outputs": [
    {
     "name": "stdout",
     "output_type": "stream",
     "text": [
      "3\n",
      "333\n",
      "22\n",
      "1\n"
     ]
    }
   ],
   "source": [
    "#code here\n",
    "n=int(input())\n",
    "i=n\n",
    "while i >= 1:\n",
    "    j=1\n",
    "    while j <= i:\n",
    "        print(i,end=\"\")\n",
    "        j=j+1\n",
    "    print()\n",
    "    i=i-1\n",
    "    "
   ]
  }
 ],
 "metadata": {
  "kernelspec": {
   "display_name": "Python 3 (ipykernel)",
   "language": "python",
   "name": "python3"
  },
  "language_info": {
   "codemirror_mode": {
    "name": "ipython",
    "version": 3
   },
   "file_extension": ".py",
   "mimetype": "text/x-python",
   "name": "python",
   "nbconvert_exporter": "python",
   "pygments_lexer": "ipython3",
   "version": "3.9.12"
  }
 },
 "nbformat": 4,
 "nbformat_minor": 5
}
