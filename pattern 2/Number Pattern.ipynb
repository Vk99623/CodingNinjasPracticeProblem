{
 "cells": [
  {
   "cell_type": "markdown",
   "id": "a7e02e72",
   "metadata": {},
   "source": [
    "# Number Pattern\n",
    "\n",
    "#### Print the following pattern for n number of rows.\n",
    "##### Note: each line consist of equal number of characters + spaces. Suppose you are printing xth line for N=n. You need to print 1..x followed by (n-x) spaces, again (n-x) spaces followed by x..1\n",
    "\n",
    "##### For eg. N = 5\n",
    "\n",
    "##### 1        1\n",
    "##### 12      21\n",
    "##### 123    321\n",
    "##### 1234  4321\n",
    "##### 1234554321\n",
    "\n",
    "##### Sample Input 1 :\n",
    "4\n",
    "\n",
    "##### Sample Output 1 :\n",
    "##### 1      1\n",
    "##### 12    21\n",
    "##### 123  321\n",
    "##### 12344321"
   ]
  },
  {
   "cell_type": "code",
   "execution_count": 1,
   "id": "fef80ae4",
   "metadata": {},
   "outputs": [
    {
     "name": "stdout",
     "output_type": "stream",
     "text": [
      "5\n",
      "1        1\n",
      "12      21\n",
      "123    321\n",
      "1234  4321\n",
      "1234554321\n"
     ]
    }
   ],
   "source": [
    "#code here\n",
    "\n",
    "n = int(input())\n",
    "i=1\n",
    "\n",
    "while i <= n:\n",
    "    j=1\n",
    "    while j <= i:\n",
    "        print(j,end='')\n",
    "        j = j + 1\n",
    "        \n",
    "    sp = 1\n",
    "    while sp <= 2*(n - i):\n",
    "        print(' ',end ='')\n",
    "        sp = sp + 1\n",
    "        \n",
    "    p = i\n",
    "    j = 1\n",
    "    while j <= i:\n",
    "        print(p,end = '')\n",
    "        p = p - 1\n",
    "        j = j + 1\n",
    "    \n",
    "    print()\n",
    "    i=i+1"
   ]
  }
 ],
 "metadata": {
  "kernelspec": {
   "display_name": "Python 3 (ipykernel)",
   "language": "python",
   "name": "python3"
  },
  "language_info": {
   "codemirror_mode": {
    "name": "ipython",
    "version": 3
   },
   "file_extension": ".py",
   "mimetype": "text/x-python",
   "name": "python",
   "nbconvert_exporter": "python",
   "pygments_lexer": "ipython3",
   "version": "3.9.12"
  }
 },
 "nbformat": 4,
 "nbformat_minor": 5
}
