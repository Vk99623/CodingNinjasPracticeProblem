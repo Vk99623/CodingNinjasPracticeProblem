{
 "cells": [
  {
   "cell_type": "markdown",
   "id": "93d006a5",
   "metadata": {},
   "source": [
    "# Triangle of Numbers\n",
    "\n",
    "### Print the following pattern for the given number of rows.\n",
    "\n",
    "#### Input format :\n",
    "Integer N (Total no. of rows)\n",
    "\n",
    "#### Output format :\n",
    "Pattern in N lines\n",
    "\n",
    "#### Constraints :\n",
    "0 <= N <= 50\n",
    "\n",
    "#### Sample Input 1:\n",
    "5\n",
    "\n",
    "#### Sample Output 1:\n",
    "####            1\n",
    "####          232\n",
    "####        34543\n",
    "####      4567654\n",
    "####    567898765"
   ]
  },
  {
   "cell_type": "code",
   "execution_count": 1,
   "id": "7a5d41d3",
   "metadata": {},
   "outputs": [
    {
     "name": "stdout",
     "output_type": "stream",
     "text": [
      "5\n",
      "    1\n",
      "   232\n",
      "  34543\n",
      " 4567654\n",
      "567898765\n"
     ]
    }
   ],
   "source": [
    "#code here\n",
    "\n",
    "n=int(input())\n",
    "i=1;\n",
    "while i <= n:\n",
    "    s=1 \n",
    "    j=1\n",
    "    while s <= n-i:\n",
    "        print(\" \",end=\"\")\n",
    "        s=s+1\n",
    "    k = i;    \n",
    "    while j<=i:\n",
    "        print(k,end=\"\")\n",
    "        k=k+1\n",
    "        j=j+1\n",
    "    k = k-2\n",
    "    p=1\n",
    "    while p<=i-1:\n",
    "        print(k,end=\"\")\n",
    "        k=k-1\n",
    "        p = p+1\n",
    "    print()\n",
    "    i=i+1"
   ]
  }
 ],
 "metadata": {
  "kernelspec": {
   "display_name": "Python 3 (ipykernel)",
   "language": "python",
   "name": "python3"
  },
  "language_info": {
   "codemirror_mode": {
    "name": "ipython",
    "version": 3
   },
   "file_extension": ".py",
   "mimetype": "text/x-python",
   "name": "python",
   "nbconvert_exporter": "python",
   "pygments_lexer": "ipython3",
   "version": "3.9.12"
  }
 },
 "nbformat": 4,
 "nbformat_minor": 5
}
