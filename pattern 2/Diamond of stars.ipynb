{
 "cells": [
  {
   "cell_type": "markdown",
   "id": "b1e0d903",
   "metadata": {},
   "source": [
    "# Diamond of stars\n",
    "\n",
    "### Print the following pattern for the given number of rows.\n",
    "\n",
    "#### Input format :\n",
    "N (Total no. of rows and can only be odd)\n",
    "\n",
    "#### Output format :\n",
    "Pattern in N lines\n",
    "#### Constraints :\n",
    "1 <= N <= 49\n",
    "#### Sample Input 1:\n",
    "5\n",
    "#### Sample Output 1:\n",
    "####   *\n",
    "####  ***\n",
    "#### *****\n",
    "####  ***\n",
    "####   *"
   ]
  },
  {
   "cell_type": "code",
   "execution_count": 1,
   "id": "6862f151",
   "metadata": {},
   "outputs": [
    {
     "name": "stdout",
     "output_type": "stream",
     "text": [
      "5\n",
      "  *\n",
      " ***\n",
      "*****\n",
      " ***\n",
      "  *\n"
     ]
    }
   ],
   "source": [
    "# code here\n",
    "n=int(input())\n",
    "num=(n//2)+1;\n",
    "\n",
    "row=1;\n",
    "#first pattern\n",
    "#loop for row\n",
    "while row <= num:\n",
    "    #loop for spaces\n",
    "    spa=1\n",
    "    while spa <= num-row:\n",
    "        print(\" \",end=\"\")\n",
    "        spa=spa+1\n",
    "    #loop for star\n",
    "    col = 1\n",
    "    while col<=row*2-1:\n",
    "        print(\"*\",end=\"\")\n",
    "        col=col+1\n",
    "    print()\n",
    "    row=row+1\n",
    "    #second pattern\n",
    "row = num-1\n",
    "while row>=1:\n",
    "    #loop for spaces\n",
    "    spa = 1\n",
    "    while spa <=num-row:\n",
    "        print(\" \",end=\"\")\n",
    "        spa = spa+1\n",
    "    #loop for stars\n",
    "    col = 1\n",
    "    while(col<=2*row-1):\n",
    "        print(\"*\",end=\"\")\n",
    "        col=col+1\n",
    "    print()\n",
    "    row= row-1\n"
   ]
  }
 ],
 "metadata": {
  "kernelspec": {
   "display_name": "Python 3 (ipykernel)",
   "language": "python",
   "name": "python3"
  },
  "language_info": {
   "codemirror_mode": {
    "name": "ipython",
    "version": 3
   },
   "file_extension": ".py",
   "mimetype": "text/x-python",
   "name": "python",
   "nbconvert_exporter": "python",
   "pygments_lexer": "ipython3",
   "version": "3.9.12"
  }
 },
 "nbformat": 4,
 "nbformat_minor": 5
}
