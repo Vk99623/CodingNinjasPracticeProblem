{
 "cells": [
  {
   "cell_type": "markdown",
   "id": "bfbe642a",
   "metadata": {},
   "source": [
    "# Star Pattern\n",
    "\n",
    "#### The dots represent spaces.\n",
    "\n",
    "#### Input Format :\n",
    "N (Total no. of rows)\n",
    "\n",
    "#### Output Format :\n",
    "Pattern in N lines\n",
    "\n",
    "#### Constraints :\n",
    "0 <= N <= 50\n",
    "#### Sample Input 1 :\n",
    "3\n",
    "#### Sample Output 1 :\n",
    "####    *\n",
    "####   *** \n",
    "####  *****"
   ]
  },
  {
   "cell_type": "code",
   "execution_count": null,
   "id": "59cc6eae",
   "metadata": {},
   "outputs": [],
   "source": [
    "#code here\n",
    "\n",
    "n=int(input())\n",
    "i=1;\n",
    "while i <= n:\n",
    "    s=1 \n",
    "    j=1\n",
    "    while s <= n-i:\n",
    "        print(\" \",end=\"\")\n",
    "        s=s+1\n",
    "    while j<=i:\n",
    "        print(\"*\",end=\"\")\n",
    "        j=j+1\n",
    "    p = i-1    \n",
    "    while p>=1:\n",
    "        print(\"*\",end=\"\")\n",
    "        p = p-1\n",
    "    print()\n",
    "    i=i+1\n",
    "    "
   ]
  }
 ],
 "metadata": {
  "kernelspec": {
   "display_name": "Python 3 (ipykernel)",
   "language": "python",
   "name": "python3"
  },
  "language_info": {
   "codemirror_mode": {
    "name": "ipython",
    "version": 3
   },
   "file_extension": ".py",
   "mimetype": "text/x-python",
   "name": "python",
   "nbconvert_exporter": "python",
   "pygments_lexer": "ipython3",
   "version": "3.9.12"
  }
 },
 "nbformat": 4,
 "nbformat_minor": 5
}
