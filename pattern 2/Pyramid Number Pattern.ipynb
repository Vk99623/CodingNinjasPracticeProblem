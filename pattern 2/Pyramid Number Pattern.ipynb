{
 "cells": [
  {
   "cell_type": "markdown",
   "id": "1d0b9032",
   "metadata": {},
   "source": [
    "# Pyramid Number Pattern\n",
    "\n",
    "#### Print the following pattern for the given number of rows.\n",
    "\n",
    "#### Pattern for N = 4\n",
    "####    1\n",
    "####   212\n",
    "####  32123\n",
    "#### 4321234\n",
    "\n",
    "#### Input format : N (Total no. of rows)\n",
    "\n",
    "\n",
    "#### Output format : Pattern in N lines\n",
    "\n",
    "#### Sample Input :\n",
    "5\n",
    "\n",
    "#### Sample Output :\n",
    "####         1\n",
    "####       212\n",
    "####     32123\n",
    "####   4321234\n",
    "#### 543212345"
   ]
  },
  {
   "cell_type": "code",
   "execution_count": 1,
   "id": "adb2c131",
   "metadata": {},
   "outputs": [
    {
     "name": "stdout",
     "output_type": "stream",
     "text": [
      "4\n",
      "   1\n",
      "  212\n",
      " 32123\n",
      "4321234\n"
     ]
    }
   ],
   "source": [
    "#code here\n",
    "n = int(input())\n",
    "i = 1\n",
    "\n",
    "while i <= n:\n",
    "    sp = 1\n",
    "    while sp <= n-i:\n",
    "        print(' ',end ='')\n",
    "        sp = sp + 1\n",
    "        \n",
    "    p = i\n",
    "    j = 1\n",
    "    \n",
    "    while j <= i:\n",
    "        print(p, end ='')\n",
    "        p = p - 1\n",
    "        j = j + 1\n",
    "        \n",
    "    p = 2\n",
    "    while p <= i:\n",
    "        print(p, end ='')\n",
    "        p = p + 1\n",
    "    \n",
    "    print()\n",
    "    i = i + 1"
   ]
  }
 ],
 "metadata": {
  "kernelspec": {
   "display_name": "Python 3 (ipykernel)",
   "language": "python",
   "name": "python3"
  },
  "language_info": {
   "codemirror_mode": {
    "name": "ipython",
    "version": 3
   },
   "file_extension": ".py",
   "mimetype": "text/x-python",
   "name": "python",
   "nbconvert_exporter": "python",
   "pygments_lexer": "ipython3",
   "version": "3.9.12"
  }
 },
 "nbformat": 4,
 "nbformat_minor": 5
}
