{
 "cells": [
  {
   "cell_type": "markdown",
   "id": "ccad740b",
   "metadata": {},
   "source": [
    "# Arrow pattern\n",
    "\n",
    "#### Print the following pattern for the given number of rows.\n",
    "Assume N is always odd.\n",
    "\n",
    "#### Note : There is space after every star.\n",
    "Pattern for N = 7\n",
    "#### *\n",
    "####  * *\n",
    "####    * * *\n",
    "####      * * * *\n",
    "####    * * *\n",
    "####  * *\n",
    "#### *\n",
    "\n",
    "#### Input format :\n",
    "Integer N (Total no. of rows)\n",
    "\n",
    "#### Output format :\n",
    "Pattern in N lines\n",
    "\n",
    "#### Sample Input :\n",
    "11\n",
    "\n",
    "#### Sample Output :\n",
    "#### *\n",
    "####  * *\n",
    "####    * * *\n",
    "####      * * * *\n",
    "####        * * * * *\n",
    "####          * * * * * *\n",
    "####        * * * * *\n",
    "####      * * * *\n",
    "####    * * *\n",
    "####  * *\n",
    "#### *"
   ]
  },
  {
   "cell_type": "code",
   "execution_count": 1,
   "id": "cc4c492e",
   "metadata": {},
   "outputs": [
    {
     "name": "stdout",
     "output_type": "stream",
     "text": [
      "11\n",
      "* \n",
      " * * \n",
      "  * * * \n",
      "   * * * * \n",
      "    * * * * * \n",
      "     * * * * * * \n",
      "    * * * * * \n",
      "   * * * * \n",
      "  * * * \n",
      " * * \n",
      "* \n"
     ]
    }
   ],
   "source": [
    "#code here\n",
    "n = int(input())\n",
    "m = n // 2 + 1\n",
    "i = 1\n",
    "\n",
    "while i <= m:\n",
    "    sp = 1\n",
    "    while sp < i:\n",
    "        print(\" \", end = \"\")\n",
    "        sp+=1\n",
    "        \n",
    "    j = i\n",
    "    c = 1\n",
    "    while j >= i and c <= i:\n",
    "        print(\"* \",end = \"\")\n",
    "        j+=2\n",
    "        c+=1\n",
    "        \n",
    "    print()\n",
    "    i+=1\n",
    "   \n",
    "i = m - 1   \n",
    "while i >= 1: \n",
    "    sp = 1\n",
    "    while sp < i:\n",
    "            print(\" \", end = \"\")\n",
    "            sp+=1\n",
    "            \n",
    "    j = i\n",
    "    c = 1\n",
    "    while j >= 1 and c <= i:\n",
    "        print(\"* \",end = \"\")\n",
    "        j+=2\n",
    "        c+=1\n",
    "        \n",
    "    print()\n",
    "    i-=1"
   ]
  }
 ],
 "metadata": {
  "kernelspec": {
   "display_name": "Python 3 (ipykernel)",
   "language": "python",
   "name": "python3"
  },
  "language_info": {
   "codemirror_mode": {
    "name": "ipython",
    "version": 3
   },
   "file_extension": ".py",
   "mimetype": "text/x-python",
   "name": "python",
   "nbconvert_exporter": "python",
   "pygments_lexer": "ipython3",
   "version": "3.9.12"
  }
 },
 "nbformat": 4,
 "nbformat_minor": 5
}
