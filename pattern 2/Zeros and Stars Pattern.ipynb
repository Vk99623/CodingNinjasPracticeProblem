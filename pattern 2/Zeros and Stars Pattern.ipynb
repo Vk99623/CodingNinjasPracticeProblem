{
 "cells": [
  {
   "cell_type": "markdown",
   "id": "b97d5a6a",
   "metadata": {},
   "source": [
    "# Zeros and Stars Pattern\n",
    "\n",
    "#### Print the following pattern\n",
    "\n",
    "#### Pattern for N = 4\n",
    "#### *000*000*\n",
    "#### 0*00*00*0\n",
    "#### 00*0*0*00\n",
    "#### 000***000\n",
    "\n",
    "#### Input Format :\n",
    "N (Total no. of rows)\n",
    "\n",
    "#### Output Format :\n",
    "Pattern in N lines\n",
    "\n",
    "#### Sample Input 1 :\n",
    "3\n",
    "\n",
    "#### Sample Output 1 :\n",
    "#### *00*00*\n",
    "#### 0*0*0*0\n",
    "#### 00***00\n"
   ]
  },
  {
   "cell_type": "code",
   "execution_count": 1,
   "id": "c8ea0bb6",
   "metadata": {},
   "outputs": [
    {
     "name": "stdout",
     "output_type": "stream",
     "text": [
      "5\n",
      "*0000*0000*\n",
      "0*000*000*0\n",
      "00*00*00*00\n",
      "000*0*0*000\n",
      "0000***0000\n"
     ]
    }
   ],
   "source": [
    "#code here\n",
    "n = int(input())\n",
    "i = 1\n",
    "star = 1\n",
    "while i<=n:\n",
    "    j = 1\n",
    "    while j <= 2*n + 1:\n",
    "        if star == i and star == j:\n",
    "            print('*', end = \"\")\n",
    "            star = star + 1\n",
    "         \n",
    "        elif j == n + 1 or j == 2*n+2 - i:\n",
    "            print('*', end = \"\")\n",
    "        else:\n",
    "            print(0, end = \"\")\n",
    "        j = j + 1\n",
    "    print()\n",
    "    i = i + 1"
   ]
  }
 ],
 "metadata": {
  "kernelspec": {
   "display_name": "Python 3 (ipykernel)",
   "language": "python",
   "name": "python3"
  },
  "language_info": {
   "codemirror_mode": {
    "name": "ipython",
    "version": 3
   },
   "file_extension": ".py",
   "mimetype": "text/x-python",
   "name": "python",
   "nbconvert_exporter": "python",
   "pygments_lexer": "ipython3",
   "version": "3.9.12"
  }
 },
 "nbformat": 4,
 "nbformat_minor": 5
}
