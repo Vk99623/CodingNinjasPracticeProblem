{
 "cells": [
  {
   "cell_type": "markdown",
   "id": "bffd0dd5",
   "metadata": {},
   "source": [
    "# Number Pattern 1\n",
    "\n",
    "### Print the following pattern for the given N number of rows.\n",
    "#### Pattern for N = 4\n",
    "#### 1\n",
    "#### 11\n",
    "#### 111\n",
    "#### 1111\n",
    "\n",
    "#### Input format :\n",
    "Integer N (Total no. of rows)\n",
    "\n",
    "#### Output format :\n",
    "Pattern in N lines\n",
    "\n",
    "#### Sample Input :\n",
    "5\n",
    "\n",
    "#### Sample Output :\n",
    "#### 1\n",
    "#### 11\n",
    "#### 111\n",
    "#### 1111\n",
    "#### 11111"
   ]
  },
  {
   "cell_type": "code",
   "execution_count": 1,
   "id": "1b825eae",
   "metadata": {},
   "outputs": [
    {
     "name": "stdout",
     "output_type": "stream",
     "text": [
      "4\n",
      "1\n",
      "11\n",
      "111\n",
      "1111\n"
     ]
    }
   ],
   "source": [
    "#code here\n",
    "\n",
    "n = int(input())\n",
    "i = 1\n",
    "while i <= n:\n",
    "    j = 1\n",
    "    while j<=i:\n",
    "        print(1,end='')\n",
    "        j=j+1\n",
    "    print()\n",
    "    i=i+1"
   ]
  }
 ],
 "metadata": {
  "kernelspec": {
   "display_name": "Python 3 (ipykernel)",
   "language": "python",
   "name": "python3"
  },
  "language_info": {
   "codemirror_mode": {
    "name": "ipython",
    "version": 3
   },
   "file_extension": ".py",
   "mimetype": "text/x-python",
   "name": "python",
   "nbconvert_exporter": "python",
   "pygments_lexer": "ipython3",
   "version": "3.9.12"
  }
 },
 "nbformat": 4,
 "nbformat_minor": 5
}
