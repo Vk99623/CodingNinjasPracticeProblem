{
 "cells": [
  {
   "cell_type": "markdown",
   "id": "96a9b7ad",
   "metadata": {},
   "source": [
    "# Number Pattern 3\n",
    "\n",
    "### Print the following pattern for the given N number of rows.\n",
    "\n",
    "#### Pattern for N = 4\n",
    "#### 1\n",
    "#### 11\n",
    "#### 121\n",
    "#### 1221\n",
    "\n",
    "#### Input format :\n",
    "Integer N (Total no. of rows)\n",
    "\n",
    "#### Output format :\n",
    "Pattern in N lines\n",
    "\n",
    "#### Sample Input :\n",
    "5\n",
    "\n",
    "#### Sample Output :\n",
    "#### 1\n",
    "#### 11\n",
    "#### 121\n",
    "#### 1221\n",
    "#### 12221"
   ]
  },
  {
   "cell_type": "code",
   "execution_count": 1,
   "id": "7b547497",
   "metadata": {},
   "outputs": [
    {
     "name": "stdout",
     "output_type": "stream",
     "text": [
      "5\n",
      "1\n",
      "11\n",
      "121\n",
      "1221\n",
      "12221\n"
     ]
    }
   ],
   "source": [
    "#code here\n",
    "\n",
    "n = int(input())\n",
    "print(1)\n",
    "row = 1\n",
    "while row <= n-1:\n",
    "    col = 1\n",
    "    while col <= row + 1:\n",
    "        if col == 1 or col >=row+1:\n",
    "            print(1,end='')\n",
    "        else:\n",
    "            print(2,end='')\n",
    "        col=col+1\n",
    "    print()\n",
    "    row=row+1"
   ]
  }
 ],
 "metadata": {
  "kernelspec": {
   "display_name": "Python 3 (ipykernel)",
   "language": "python",
   "name": "python3"
  },
  "language_info": {
   "codemirror_mode": {
    "name": "ipython",
    "version": 3
   },
   "file_extension": ".py",
   "mimetype": "text/x-python",
   "name": "python",
   "nbconvert_exporter": "python",
   "pygments_lexer": "ipython3",
   "version": "3.9.12"
  }
 },
 "nbformat": 4,
 "nbformat_minor": 5
}
