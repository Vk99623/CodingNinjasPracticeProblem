{
 "cells": [
  {
   "cell_type": "markdown",
   "id": "41cfaffa",
   "metadata": {},
   "source": [
    "# Interesting Alphabets\n",
    "\n",
    "### Print the following pattern for the given number of rows.\n",
    "\n",
    "#### Pattern for N = 5\n",
    "#### E\n",
    "#### DE\n",
    "#### CDE\n",
    "#### BCDE\n",
    "#### ABCDE\n",
    "\n",
    "#### Input format :\n",
    "N (Total no. of rows)\n",
    "\n",
    "#### Output format :\n",
    "Pattern in N lines\n",
    "\n",
    "#### Constraints\n",
    "0 <= N <= 26\n",
    "\n",
    "#### Sample Input 1:\n",
    "8\n",
    "\n",
    "#### Sample Output 1:\n",
    "#### H\n",
    "#### GH\n",
    "#### FGH\n",
    "#### EFGH\n",
    "#### DEFGH\n",
    "#### CDEFGH\n",
    "#### BCDEFGH\n",
    "#### ABCDEFGH\n"
   ]
  },
  {
   "cell_type": "code",
   "execution_count": 1,
   "id": "afa9ae6a",
   "metadata": {},
   "outputs": [
    {
     "name": "stdout",
     "output_type": "stream",
     "text": [
      "5\n",
      "E\n",
      "DE\n",
      "CDE\n",
      "BCDE\n",
      "ABCDE\n"
     ]
    }
   ],
   "source": [
    "#code here\n",
    "\n",
    "n = int(input())\n",
    "i = 1\n",
    "while i <= n:\n",
    "    j = i\n",
    "    start_char = chr(ord('A')+n+1)\n",
    "    while j>=1:\n",
    "        charP = chr(ord(start_char)-j-1)\n",
    "        print(charP,end='')\n",
    "        j=j-1\n",
    "    print()\n",
    "    i=i+1"
   ]
  }
 ],
 "metadata": {
  "kernelspec": {
   "display_name": "Python 3 (ipykernel)",
   "language": "python",
   "name": "python3"
  },
  "language_info": {
   "codemirror_mode": {
    "name": "ipython",
    "version": 3
   },
   "file_extension": ".py",
   "mimetype": "text/x-python",
   "name": "python",
   "nbconvert_exporter": "python",
   "pygments_lexer": "ipython3",
   "version": "3.9.12"
  }
 },
 "nbformat": 4,
 "nbformat_minor": 5
}
