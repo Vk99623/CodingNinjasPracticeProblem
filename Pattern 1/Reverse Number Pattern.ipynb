{
 "cells": [
  {
   "cell_type": "markdown",
   "id": "586fb639",
   "metadata": {},
   "source": [
    "# Reverse Number Pattern\n",
    "\n",
    "### Print the following pattern for the given N number of rows.\n",
    "\n",
    "#### Input format :\n",
    "#### Integer N (Total no. of rows)\n",
    "\n",
    "#### Output format :\n",
    "Pattern in N lines\n",
    "\n",
    "#### Constraints\n",
    "0 <= N <= 50\n",
    "\n",
    "#### Sample Input 1:\n",
    "5\n",
    "#### Sample Output 1:\n",
    "#### 1\n",
    "#### 21\n",
    "#### 321\n",
    "#### 4321\n",
    "#### 54321\n"
   ]
  },
  {
   "cell_type": "code",
   "execution_count": 1,
   "id": "c2ce439b",
   "metadata": {},
   "outputs": [
    {
     "name": "stdout",
     "output_type": "stream",
     "text": [
      "5\n",
      "1\n",
      "21\n",
      "321\n",
      "4321\n",
      "54321\n"
     ]
    }
   ],
   "source": [
    "#code here\n",
    "n = int(input())\n",
    "i = 1\n",
    "while i <= n:\n",
    "    j = i\n",
    "    while j>=1:\n",
    "        print(j,end='')\n",
    "        j=j-1\n",
    "    print()\n",
    "    i=i+1"
   ]
  }
 ],
 "metadata": {
  "kernelspec": {
   "display_name": "Python 3 (ipykernel)",
   "language": "python",
   "name": "python3"
  },
  "language_info": {
   "codemirror_mode": {
    "name": "ipython",
    "version": 3
   },
   "file_extension": ".py",
   "mimetype": "text/x-python",
   "name": "python",
   "nbconvert_exporter": "python",
   "pygments_lexer": "ipython3",
   "version": "3.9.12"
  }
 },
 "nbformat": 4,
 "nbformat_minor": 5
}
