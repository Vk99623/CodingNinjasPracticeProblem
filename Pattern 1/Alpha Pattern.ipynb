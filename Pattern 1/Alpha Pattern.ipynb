{
 "cells": [
  {
   "cell_type": "markdown",
   "id": "96bc0385",
   "metadata": {},
   "source": [
    "# Alpha Pattern\n",
    "\n",
    "### Print the following pattern for the given N number of rows.\n",
    "\n",
    "#### Pattern for N = 3\n",
    "####  A\n",
    "####  BB\n",
    "####  CCC\n",
    "\n",
    "#### Input format :\n",
    "Integer N (Total no. of rows)\n",
    "\n",
    "#### Output format :\n",
    "Pattern in N lines\n",
    "\n",
    "#### Constraints\n",
    "0 <= N <= 26\n",
    "\n",
    "#### Sample Input 1:\n",
    "7\n",
    "\n",
    "#### Sample Output 1:\n",
    "#### A\n",
    "#### BB\n",
    "#### CCC\n",
    "#### DDDD\n",
    "#### EEEEE\n",
    "#### FFFFFF\n",
    "#### GGGGGGG"
   ]
  },
  {
   "cell_type": "code",
   "execution_count": 1,
   "id": "ce771bb0",
   "metadata": {},
   "outputs": [
    {
     "name": "stdout",
     "output_type": "stream",
     "text": [
      "4\n",
      "A\n",
      "BB\n",
      "CCC\n",
      "DDDD\n"
     ]
    }
   ],
   "source": [
    "#code here\n",
    "n = int(input())\n",
    "i = 1\n",
    "while i <= n:\n",
    "    j = 1\n",
    "    start_char = chr(ord('A')+i-1)\n",
    "    while j<=i:  \n",
    "        charP = chr(ord(start_char))\n",
    "        print(charP,end='')\n",
    "        j=j+1\n",
    "    print()\n",
    "    i=i+1"
   ]
  }
 ],
 "metadata": {
  "kernelspec": {
   "display_name": "Python 3 (ipykernel)",
   "language": "python",
   "name": "python3"
  },
  "language_info": {
   "codemirror_mode": {
    "name": "ipython",
    "version": 3
   },
   "file_extension": ".py",
   "mimetype": "text/x-python",
   "name": "python",
   "nbconvert_exporter": "python",
   "pygments_lexer": "ipython3",
   "version": "3.9.12"
  }
 },
 "nbformat": 4,
 "nbformat_minor": 5
}
