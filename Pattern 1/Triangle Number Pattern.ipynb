{
 "cells": [
  {
   "cell_type": "markdown",
   "id": "90c00e0d",
   "metadata": {},
   "source": [
    "# Triangle Number Pattern\n",
    "\n",
    "### Print the following pattern for the given N number of rows.\n",
    "\n",
    "#### Input format :\n",
    "#### Integer N (Total no. of rows)\n",
    "\n",
    "#### Output format :\n",
    "#### Pattern in N lines\n",
    "\n",
    "#### Constraints\n",
    "0 <= N <= 50\n",
    "\n",
    "#### Sample Input 1:\n",
    "4\n",
    "#### Sample Output 1:\n",
    "#### 1\n",
    "#### 22\n",
    "#### 333\n",
    "#### 4444\n",
    "\n"
   ]
  },
  {
   "cell_type": "code",
   "execution_count": 1,
   "id": "b735c80d",
   "metadata": {},
   "outputs": [
    {
     "name": "stdout",
     "output_type": "stream",
     "text": [
      "4\n",
      "1\n",
      "22\n",
      "333\n",
      "4444\n"
     ]
    }
   ],
   "source": [
    "# code here \n",
    "n = int(input())\n",
    "i = 1\n",
    "while i <= n:\n",
    "    j = 1\n",
    "    while j<=i:\n",
    "        print(i,end='')\n",
    "        j=j+1\n",
    "    print()\n",
    "    i=i+1"
   ]
  }
 ],
 "metadata": {
  "kernelspec": {
   "display_name": "Python 3 (ipykernel)",
   "language": "python",
   "name": "python3"
  },
  "language_info": {
   "codemirror_mode": {
    "name": "ipython",
    "version": 3
   },
   "file_extension": ".py",
   "mimetype": "text/x-python",
   "name": "python",
   "nbconvert_exporter": "python",
   "pygments_lexer": "ipython3",
   "version": "3.9.12"
  }
 },
 "nbformat": 4,
 "nbformat_minor": 5
}
