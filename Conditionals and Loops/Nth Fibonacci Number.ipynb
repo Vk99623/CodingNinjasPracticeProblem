{
 "cells": [
  {
   "cell_type": "markdown",
   "id": "0a76d21e",
   "metadata": {},
   "source": [
    "# Nth Fibonacci Number\n",
    "\n",
    "#### Nth term of Fibonacci series F(n), where F(n) is a function, is calculated using the following formula -\n",
    "    F(n) = F(n-1) + F(n-2), \n",
    "    Where, F(1) =  0, \n",
    "           F(2) = 1\n",
    "           \n",
    "#### Provided N you have to find out the Nth Fibonacci Number.\n",
    "\n",
    "#### Input Format :\n",
    "The first line of each test case contains a real number ‘N’.\n",
    "\n",
    "#### Output Format :\n",
    "For each test case, return its equivalent Fibonacci number.\n",
    "\n",
    "#### Constraints:\n",
    "1 <= N <= 10000     \n",
    "Where ‘N’ represents the number for which we have to find its equivalent Fibonacci number.\n",
    "\n",
    "Time Limit: 1 second\n",
    "\n",
    "#### Sample Input 1:\n",
    "6\n",
    "\n",
    "#### Sample Output 1:\n",
    "8"
   ]
  },
  {
   "cell_type": "code",
   "execution_count": 2,
   "id": "d20510b8",
   "metadata": {},
   "outputs": [
    {
     "name": "stdout",
     "output_type": "stream",
     "text": [
      "9\n",
      "34\n"
     ]
    }
   ],
   "source": [
    "n1=0;\n",
    "n2=1;\n",
    "temp=0;\n",
    "num = int(input());\n",
    "i = 1\n",
    "while(i < num):\n",
    "    #print(n2);\n",
    "    temp = n1+n2;\n",
    "    n1 = n2;\n",
    "    n2=temp;\n",
    "    i=i+1;\n",
    "    \n",
    "print(n2)"
   ]
  }
 ],
 "metadata": {
  "kernelspec": {
   "display_name": "Python 3 (ipykernel)",
   "language": "python",
   "name": "python3"
  },
  "language_info": {
   "codemirror_mode": {
    "name": "ipython",
    "version": 3
   },
   "file_extension": ".py",
   "mimetype": "text/x-python",
   "name": "python",
   "nbconvert_exporter": "python",
   "pygments_lexer": "ipython3",
   "version": "3.9.12"
  }
 },
 "nbformat": 4,
 "nbformat_minor": 5
}
