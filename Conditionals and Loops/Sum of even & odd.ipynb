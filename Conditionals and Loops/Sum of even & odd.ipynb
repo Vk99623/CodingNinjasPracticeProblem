{
 "cells": [
  {
   "cell_type": "markdown",
   "id": "0e0f727e",
   "metadata": {},
   "source": [
    "# Sum of even & odd\n",
    "\n",
    "### Write a program to input an integer N and print the sum of all its even digits and sum of all its odd digits separately.\n",
    "\n",
    "#### Digits mean numbers, not the places! That is, if the given integer is \"13245\", even digits are 2 & 4 and odd digits are 1, 3 & 5.\n",
    "\n",
    "#### Input format :\n",
    " Integer N\n",
    "\n",
    "#### Output format :\n",
    "Sum_of_Even_Digits Sum_of_Odd_Digits\n",
    "(Print first even sum and then odd sum separated by space)\n",
    "\n",
    "#### Constraints:\n",
    "0 <= N <= 10^8\n",
    "\n",
    "#### Sample Input 1:\n",
    "1234\n",
    "\n",
    "#### Sample Output 1:\n",
    "6 4\n",
    "\n",
    "#### Sample Input 2:\n",
    "552245\n",
    "\n",
    "#### Sample Output 2:\n",
    "8 15"
   ]
  },
  {
   "cell_type": "code",
   "execution_count": 3,
   "id": "457b0c86",
   "metadata": {},
   "outputs": [
    {
     "name": "stdout",
     "output_type": "stream",
     "text": [
      "534657\n",
      "10 20\n"
     ]
    }
   ],
   "source": [
    "# code here\n",
    "s = int(input())\n",
    "even = 0;\n",
    "odd = 0;\n",
    "digit = 0;\n",
    "while s > 0:\n",
    "    digit=s%10;\n",
    "    if(digit % 2 == 0):\n",
    "        even = even + digit\n",
    "    else:\n",
    "        odd = odd + digit\n",
    "    s=s//10;\n",
    "\n",
    "print(even,odd)"
   ]
  }
 ],
 "metadata": {
  "kernelspec": {
   "display_name": "Python 3 (ipykernel)",
   "language": "python",
   "name": "python3"
  },
  "language_info": {
   "codemirror_mode": {
    "name": "ipython",
    "version": 3
   },
   "file_extension": ".py",
   "mimetype": "text/x-python",
   "name": "python",
   "nbconvert_exporter": "python",
   "pygments_lexer": "ipython3",
   "version": "3.9.12"
  }
 },
 "nbformat": 4,
 "nbformat_minor": 5
}
