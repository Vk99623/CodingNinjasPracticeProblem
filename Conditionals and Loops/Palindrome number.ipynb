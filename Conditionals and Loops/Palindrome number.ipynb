{
 "cells": [
  {
   "cell_type": "markdown",
   "id": "2b8d01de",
   "metadata": {},
   "source": [
    "# Palindrome number\n",
    "\n",
    "### Write a program to determine if given number is palindrome or not. Print true if it is palindrome, false otherwise.\n",
    "\n",
    "#### Palindrome are the numbers for which reverse is exactly same as the original one. For eg. 121\n",
    "\n",
    "#### Sample Input 1 :\n",
    "121\n",
    "\n",
    "#### Sample Output 1 :\n",
    "true\n",
    "\n",
    "#### Sample Input 2 :\n",
    "1032\n",
    "\n",
    "#### Sample Output 2 :\n",
    "false"
   ]
  },
  {
   "cell_type": "code",
   "execution_count": 2,
   "id": "c5e391cd",
   "metadata": {},
   "outputs": [
    {
     "name": "stdout",
     "output_type": "stream",
     "text": [
      "121\n",
      "true\n"
     ]
    }
   ],
   "source": [
    "def checkPalindrome(num):\n",
    "    rev = 0\n",
    "    x = num\n",
    "    while num>0:\n",
    "        rev = (rev*10)+num%10\n",
    "        num = num//10\n",
    "    if(x == rev):\n",
    "        return True\n",
    "    else:\n",
    "        return False\n",
    "    \n",
    "num = int(input())\n",
    "isPalindrome = checkPalindrome(num)\n",
    "if(isPalindrome):\n",
    "    print('true')\n",
    "else:\n",
    "    print('false')\n"
   ]
  }
 ],
 "metadata": {
  "kernelspec": {
   "display_name": "Python 3 (ipykernel)",
   "language": "python",
   "name": "python3"
  },
  "language_info": {
   "codemirror_mode": {
    "name": "ipython",
    "version": 3
   },
   "file_extension": ".py",
   "mimetype": "text/x-python",
   "name": "python",
   "nbconvert_exporter": "python",
   "pygments_lexer": "ipython3",
   "version": "3.9.12"
  }
 },
 "nbformat": 4,
 "nbformat_minor": 5
}
