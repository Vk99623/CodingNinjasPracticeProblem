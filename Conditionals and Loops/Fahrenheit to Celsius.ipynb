{
 "cells": [
  {
   "cell_type": "markdown",
   "id": "60c87820",
   "metadata": {},
   "source": [
    "# Fahrenheit to Celsius\n",
    "\n",
    "### Given three values - Start Fahrenheit Value (S), End Fahrenheit value (E) and Step Size (W), you need to convert all Fahrenheit values from Start to End at the gap of W, into their corresponding Celsius values and print the table.\n",
    "\n",
    "#### Input Format :\n",
    "3 integers - S, E and W respectively \n",
    "\n",
    "#### Output Format :\n",
    "Fahrenheit to Celsius conversion table. One line for every Fahrenheit and corresponding Celsius value. The Fahrenheit value and its corresponding Celsius value should be separate by single space.\n",
    "\n",
    "#### Constraints :\n",
    "0 <= S <= 90\n",
    "S <= E <=  900\n",
    "0 <= W <= 80 \n",
    "\n",
    "#### Sample Input 1:\n",
    "0 \n",
    "100 \n",
    "20\n",
    "\n",
    "#### Sample Output 1:\n",
    "0   -17\n",
    "20  -6\n",
    "40  4\n",
    "60  15\n",
    "80  26\n",
    "100 37\n",
    "\n",
    "#### Sample Input 2:\n",
    "20\n",
    "119\n",
    "13\n",
    "\n",
    "#### Sample Output 2:\n",
    "20  -6\n",
    "33  0 \n",
    "46  7\n",
    "59  15\n",
    "72  22\n",
    "85  29\n",
    "98  36\n",
    "111 43"
   ]
  },
  {
   "cell_type": "code",
   "execution_count": 1,
   "id": "57a777cc",
   "metadata": {},
   "outputs": [
    {
     "name": "stdout",
     "output_type": "stream",
     "text": [
      "0\n",
      "100\n",
      "20\n",
      "0 -17\n",
      "20 -6\n",
      "40 4\n",
      "60 15\n",
      "80 26\n",
      "100 37\n"
     ]
    }
   ],
   "source": [
    "s = int(input())\n",
    "e = int(input())\n",
    "w = int(input())\n",
    "\n",
    "while(s <= e):\n",
    "    res = int((s - 32) * 5/9);\n",
    "    print(str(s) +\" \"+ str(res))\n",
    "    s=s+w\n"
   ]
  }
 ],
 "metadata": {
  "kernelspec": {
   "display_name": "Python 3 (ipykernel)",
   "language": "python",
   "name": "python3"
  },
  "language_info": {
   "codemirror_mode": {
    "name": "ipython",
    "version": 3
   },
   "file_extension": ".py",
   "mimetype": "text/x-python",
   "name": "python",
   "nbconvert_exporter": "python",
   "pygments_lexer": "ipython3",
   "version": "3.9.12"
  }
 },
 "nbformat": 4,
 "nbformat_minor": 5
}
