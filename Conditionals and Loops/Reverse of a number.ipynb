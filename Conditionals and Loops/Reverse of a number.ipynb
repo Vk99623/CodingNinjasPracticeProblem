{
 "cells": [
  {
   "cell_type": "markdown",
   "id": "e2a925d2",
   "metadata": {},
   "source": [
    "# Reverse of a number\n",
    "\n",
    "### Write a program to generate the reverse of a given number N. Print the corresponding reverse number.\n",
    "\n",
    "#### Note : If a number has trailing zeros, then its reverse will not include them. For e.g., reverse of 10400 will be 401 instead of 00401.\n",
    "\n",
    "\n",
    "#### Input format :\n",
    "Integer N\n",
    "\n",
    "#### Output format :\n",
    "Corresponding reverse number\n",
    "\n",
    "#### Constraints:\n",
    "0 <= N < 10^8\n",
    "\n",
    "#### Sample Input 1 :\n",
    "1234\n",
    "\n",
    "#### Sample Output 1 :\n",
    "4321\n",
    " \n",
    "#### Sample Input 2 :\n",
    "1980\n",
    "#### Sample Output 2 :\n",
    "891"
   ]
  },
  {
   "cell_type": "code",
   "execution_count": 1,
   "id": "a63ab369",
   "metadata": {},
   "outputs": [
    {
     "name": "stdout",
     "output_type": "stream",
     "text": [
      "8910\n",
      "198\n"
     ]
    }
   ],
   "source": [
    "# Code Here\n",
    "n = int(input())\n",
    "rev = 0\n",
    "while n>0:\n",
    "    rev = (rev*10)+n%10\n",
    "    n = n//10\n",
    "print(rev)"
   ]
  }
 ],
 "metadata": {
  "kernelspec": {
   "display_name": "Python 3 (ipykernel)",
   "language": "python",
   "name": "python3"
  },
  "language_info": {
   "codemirror_mode": {
    "name": "ipython",
    "version": 3
   },
   "file_extension": ".py",
   "mimetype": "text/x-python",
   "name": "python",
   "nbconvert_exporter": "python",
   "pygments_lexer": "ipython3",
   "version": "3.9.12"
  }
 },
 "nbformat": 4,
 "nbformat_minor": 5
}
