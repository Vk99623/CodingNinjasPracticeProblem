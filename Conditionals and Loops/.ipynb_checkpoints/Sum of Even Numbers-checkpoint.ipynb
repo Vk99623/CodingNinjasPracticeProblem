{
 "cells": [
  {
   "cell_type": "markdown",
   "id": "af345740",
   "metadata": {},
   "source": [
    "# Sum of Even Numbers\n",
    "\n",
    "### Given a number N, print sum of all even numbers from 1 to N.\n",
    "\n",
    "#### Input Format :\n",
    "Integer N\n",
    "\n",
    "#### Output Format :\n",
    "Required Sum\n",
    "\n",
    "#### Sample Input 1 :\n",
    " 6\n",
    " \n",
    "#### Sample Output 1 :\n",
    "12"
   ]
  },
  {
   "cell_type": "code",
   "execution_count": 1,
   "id": "94d971d1",
   "metadata": {},
   "outputs": [
    {
     "name": "stdout",
     "output_type": "stream",
     "text": [
      "6\n",
      "12\n"
     ]
    }
   ],
   "source": [
    "# code here\n",
    "n = int(input())\n",
    "sum = 0\n",
    "count = 1\n",
    "while count <= n:\n",
    "    if count%2 == 0:\n",
    "        sum = sum+count\n",
    "    count = count+1\n",
    "print(sum)"
   ]
  }
 ],
 "metadata": {
  "kernelspec": {
   "display_name": "Python 3 (ipykernel)",
   "language": "python",
   "name": "python3"
  },
  "language_info": {
   "codemirror_mode": {
    "name": "ipython",
    "version": 3
   },
   "file_extension": ".py",
   "mimetype": "text/x-python",
   "name": "python",
   "nbconvert_exporter": "python",
   "pygments_lexer": "ipython3",
   "version": "3.9.12"
  }
 },
 "nbformat": 4,
 "nbformat_minor": 5
}
