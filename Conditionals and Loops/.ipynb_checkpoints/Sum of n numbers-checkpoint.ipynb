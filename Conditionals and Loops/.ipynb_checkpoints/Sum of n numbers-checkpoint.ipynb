{
 "cells": [
  {
   "cell_type": "markdown",
   "id": "e70cf80d",
   "metadata": {},
   "source": [
    "# Sum of n numbers\n",
    "\n",
    "### Given an integer n, find and print the sum of numbers from 1 to n.\n",
    "\n",
    "#### Note : Use while loop only.\n",
    "\n",
    "#### Input Format :\n",
    "Integer n\n",
    "\n",
    "#### Output Format :\n",
    "Sum\n",
    "\n",
    "#### Constraints :\n",
    "1 <= n <= 100\n",
    "\n",
    "#### Sample Input :\n",
    "10\n",
    "\n",
    "#### Sample Output :\n",
    "55"
   ]
  },
  {
   "cell_type": "code",
   "execution_count": 1,
   "id": "0f41510d",
   "metadata": {},
   "outputs": [
    {
     "name": "stdout",
     "output_type": "stream",
     "text": [
      "10\n",
      "55\n"
     ]
    }
   ],
   "source": [
    "n = int(input())\n",
    "sum = 0\n",
    "count = 1\n",
    "while count<=n:\n",
    "    sum = sum+count\n",
    "    count = count+1\n",
    "print(sum)"
   ]
  }
 ],
 "metadata": {
  "kernelspec": {
   "display_name": "Python 3 (ipykernel)",
   "language": "python",
   "name": "python3"
  },
  "language_info": {
   "codemirror_mode": {
    "name": "ipython",
    "version": 3
   },
   "file_extension": ".py",
   "mimetype": "text/x-python",
   "name": "python",
   "nbconvert_exporter": "python",
   "pygments_lexer": "ipython3",
   "version": "3.9.12"
  }
 },
 "nbformat": 4,
 "nbformat_minor": 5
}
