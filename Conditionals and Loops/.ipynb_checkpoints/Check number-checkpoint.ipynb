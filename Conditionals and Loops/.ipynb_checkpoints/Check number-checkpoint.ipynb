{
 "cells": [
  {
   "cell_type": "markdown",
   "id": "48ef4071",
   "metadata": {},
   "source": [
    "# Check number\n",
    "\n",
    "### Given an integer n, find if n is positive, negative or 0.\n",
    "\n",
    "If n is positive, print \"Positive\"\n",
    "If n is negative, print \"Negative\"\n",
    "And if n is equal to 0, print \"Zero\".\n",
    "\n",
    "#### Input Format :\n",
    "Integer n\n",
    "\n",
    "#### Output Format :\n",
    "\"Positive\" or \"Negative\" or \"Zero\" (without double quotes)\n",
    "\n",
    "#### Constraints :\n",
    "-100 <= n <= 100\n",
    "\n",
    "#### Sample Input 1 :\n",
    "10\n",
    "\n",
    "#### Sample Output 1 :\n",
    "Positive\n",
    "\n",
    "#### Sample Input 2 :\n",
    "-10\n",
    "\n",
    "#### Sample Output 2 :\n",
    "Negative"
   ]
  },
  {
   "cell_type": "code",
   "execution_count": 3,
   "id": "95d8f1a0",
   "metadata": {},
   "outputs": [
    {
     "name": "stdout",
     "output_type": "stream",
     "text": [
      "-5\n",
      "Negative\n"
     ]
    }
   ],
   "source": [
    "# code here\n",
    "n = int(input())\n",
    "if n > 0:\n",
    "    print(\"Positive\")\n",
    "elif n == 0:\n",
    "    print(\"Zero\")\n",
    "elif n < 0:\n",
    "    print(\"Negative\")"
   ]
  }
 ],
 "metadata": {
  "kernelspec": {
   "display_name": "Python 3 (ipykernel)",
   "language": "python",
   "name": "python3"
  },
  "language_info": {
   "codemirror_mode": {
    "name": "ipython",
    "version": 3
   },
   "file_extension": ".py",
   "mimetype": "text/x-python",
   "name": "python",
   "nbconvert_exporter": "python",
   "pygments_lexer": "ipython3",
   "version": "3.9.12"
  }
 },
 "nbformat": 4,
 "nbformat_minor": 5
}
