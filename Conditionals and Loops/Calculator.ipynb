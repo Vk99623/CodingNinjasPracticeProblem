{
 "cells": [
  {
   "cell_type": "markdown",
   "id": "7918da55",
   "metadata": {},
   "source": [
    "# Calculator\n",
    "\n",
    "### Write a program that performs the tasks of a simple calculator. The program should first take an integer as input and then based on that integer perform the task as given below.\n",
    "\n",
    "1. If the input is 1, then 2 integers are taken from the user and their sum is printed.\n",
    "2. If the input is 2, then 2 integers are taken from the user and their difference(1st number - 2nd number) is printed.\n",
    "3. If the input is 3, then 2 integers are taken from the user and their product is printed.\n",
    "4. If the input is 4, then 2 integers are taken from the user and the quotient obtained (on dividing 1st number by 2nd number) is printed.\n",
    "5. If the input is 5, then 2 integers are taken from the user and their remainder(1st number mod 2nd number) is printed.\n",
    "6. If the input is 6, then the program exits.\n",
    "7. For any other input, then print \"Invalid Operation\".\n",
    "\n",
    "#### Note: Each answer in next line.\n",
    "\n",
    "#### Input format:\n",
    "Take integers as input, in accordance to the description of the question. \n",
    "\n",
    "#### Constraints:\n",
    "Time Limit: 1 second\n",
    "\n",
    "#### Output format:\n",
    "The output lines must be as prescribed in the description of the question.\n",
    "Sample Input:\n",
    "3\n",
    "1\n",
    "2\n",
    "4\n",
    "4\n",
    "2\n",
    "1\n",
    "3\n",
    "2\n",
    "7\n",
    "6\n",
    "\n",
    "#### Sample Output:\n",
    "2\n",
    "2\n",
    "5\n",
    "Invalid Operation"
   ]
  },
  {
   "cell_type": "code",
   "execution_count": 1,
   "id": "cbe033ba",
   "metadata": {},
   "outputs": [
    {
     "name": "stdout",
     "output_type": "stream",
     "text": [
      "3\n",
      "4\n",
      "5\n",
      "20\n",
      "6\n"
     ]
    }
   ],
   "source": [
    "# code here\n",
    "\n",
    "while True:\n",
    "    num=int(input())\n",
    "    if(num==1):\n",
    "        n1=int(input())\n",
    "        n2=int(input())\n",
    "        sum=n1+n2\n",
    "        print(sum)\n",
    "    elif(num == 2):\n",
    "        n1=int(input())\n",
    "        n2=int(input())\n",
    "        sub=n1-n2\n",
    "        print(sub)\n",
    "    elif(num == 3):\n",
    "        n1=int(input())\n",
    "        n2=int(input())\n",
    "        mul=n1*n2\n",
    "        print(mul)\n",
    "    elif(num == 4):\n",
    "        n1=int(input())\n",
    "        n2=int(input())\n",
    "        div=n1//n2\n",
    "        print(div)\n",
    "    elif(num == 5):\n",
    "        n1=int(input())\n",
    "        n2=int(input())\n",
    "        mod=n1%n2\n",
    "        print(mod)\n",
    "    elif(num == 6):\n",
    "        break\n",
    "    else:\n",
    "        print(\"Invalid Operation\")\n"
   ]
  }
 ],
 "metadata": {
  "kernelspec": {
   "display_name": "Python 3 (ipykernel)",
   "language": "python",
   "name": "python3"
  },
  "language_info": {
   "codemirror_mode": {
    "name": "ipython",
    "version": 3
   },
   "file_extension": ".py",
   "mimetype": "text/x-python",
   "name": "python",
   "nbconvert_exporter": "python",
   "pygments_lexer": "ipython3",
   "version": "3.9.12"
  }
 },
 "nbformat": 4,
 "nbformat_minor": 5
}
